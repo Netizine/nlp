{
  "cells": [
    {
      "cell_type": "markdown",
      "metadata": {
        "id": "9T4xWtZGpjGb"
      },
      "source": [
        "[![Open In Colab](https://colab.research.google.com/assets/colab-badge.svg)](https://colab.research.google.com/drive/1ZGObhOKJCQhJJZFakc-v2ykj-hXm7K2o?usp=sharing)\n"
      ]
    },
    {
      "cell_type": "markdown",
      "metadata": {
        "id": "bLTopUOXpjGc"
      },
      "source": [
        "# Fine-tuning RoBERTa for Commodity Classification with Hugging Face Transformers and ICIS Datasets Library\n"
      ]
    },
    {
      "cell_type": "code",
      "execution_count": null,
      "metadata": {
        "id": "EK3W14jiJtI7"
      },
      "outputs": [],
      "source": [
        "!pip install -U transformers datasets huggingface_hub tensorboard==2.18.0\n",
        "!sudo apt-get install git-lfs --yes"
      ]
    },
    {
      "cell_type": "code",
      "execution_count": 25,
      "metadata": {
        "id": "2cCy66m_KQXY"
      },
      "outputs": [],
      "source": [
        "import torch\n",
        "from datasets import load_dataset\n",
        "from transformers import (\n",
        "    RobertaForMaskedLM,\n",
        "    RobertaTokenizerFast,\n",
        "    DataCollatorForLanguageModeling,\n",
        "    Trainer,\n",
        "    TrainingArguments,\n",
        ")\n",
        "from huggingface_hub import HfFolder, notebook_login\n",
        "from google.colab import userdata"
      ]
    },
    {
      "cell_type": "code",
      "execution_count": null,
      "metadata": {
        "id": "ClA4XKLoKS97"
      },
      "outputs": [],
      "source": [
        "notebook_login()"
      ]
    },
    {
      "cell_type": "code",
      "execution_count": 27,
      "metadata": {
        "id": "kAHTUxVpKc80"
      },
      "outputs": [],
      "source": [
        "model_id   = \"FacebookAI/roberta-base\"   # or your fine-tuned LM if you prefer\n",
        "dataset_id = \"Netizine/icis\"           # your Hub dataset\n",
        "saved_model_id    = \"Netizine/icis\"           # your target model repo on the Hub"
      ]
    },
    {
      "cell_type": "code",
      "execution_count": 28,
      "metadata": {
        "id": "raRgyYa-MLK_"
      },
      "outputs": [],
      "source": [
        "# Load dataset\n",
        "train_dataset = load_dataset(dataset_id, split=\"train\")"
      ]
    },
    {
      "cell_type": "code",
      "execution_count": null,
      "metadata": {
        "id": "f6XOAgtBMzbX"
      },
      "outputs": [],
      "source": [
        "# Init tokenizer & model\n",
        "tokenizer = RobertaTokenizerFast.from_pretrained(model_id)\n",
        "device    = torch.device(\"cuda\")\n",
        "model     = RobertaForMaskedLM.from_pretrained(model_id).to(device)\n",
        "\n",
        "def tokenize_fn(examples):\n",
        "    return tokenizer(examples[\"text\"],\n",
        "                      truncation=True,\n",
        "                      max_length=512,\n",
        "                      return_special_tokens_mask=True)\n",
        "\n",
        "# 3) Tokenize\n",
        "tokenized = train_dataset.map(\n",
        "    tokenize_fn, batched=True, num_proc=8, remove_columns=[\"text\"]\n",
        ").shuffle(42)\n",
        "\n",
        "# 4) Trainer setup\n",
        "data_collator = DataCollatorForLanguageModeling(tokenizer, mlm_probability=0.15)\n",
        "training_args = TrainingArguments(\n",
        "    output_dir=\"checkpoints\", per_device_train_batch_size=32,\n",
        "    gradient_checkpointing=True, fp16=True,\n",
        "    num_train_epochs=3, warmup_steps=500,\n",
        "    learning_rate=5e-5, weight_decay=0.01,\n",
        "    dataloader_num_workers=4, logging_steps=5000,\n",
        "    save_steps=1000, report_to=\"none\",\n",
        "    push_to_hub=True, hub_model_id=saved_model_id,\n",
        "    hub_private_repo=True, hub_token=userdata.get('HF_TOKEN'),\n",
        ")\n",
        "trainer = Trainer(\n",
        "    model=model, args=training_args,\n",
        "    train_dataset=tokenized, data_collator=data_collator\n",
        ")"
      ]
    },
    {
      "cell_type": "code",
      "execution_count": null,
      "metadata": {
        "id": "mlyfdzJnN8Zq"
      },
      "outputs": [],
      "source": [
        "# Fine-tune the model\n",
        "print(\"▶️ Starting training…\")\n",
        "trainer.train()\n",
        "\n",
        "# Save our tokenizer and create model card\n",
        "tokenizer.save_pretrained(saved_model_id)\n",
        "trainer.create_model_card()\n",
        "# Push the results to the hub\n",
        "trainer.push_to_hub(commit_message=\"Pusging final RoBERTa MLM\")\n",
        "\n",
        "# Fine-tune the model\n",
        "print(\"✅ Done! The fine-tuned model is saved on Hugging Face Hub.\")"
      ]
    },
    {
      "cell_type": "code",
      "execution_count": null,
      "metadata": {
        "id": "7wvjV_8sosIh"
      },
      "outputs": [],
      "source": [
        "# Test our fine-tuned MLM with a fill-mask pipeline\n",
        "\n",
        "from transformers import pipeline\n",
        "\n",
        "# Load your model + tokenizer directly from the Hub\n",
        "fill_mask = pipeline(\n",
        "    \"fill-mask\",\n",
        "    model=saved_model_id,\n",
        "    tokenizer=saved_model_id,\n",
        "    device=0  # assumes a single GPU; remove for CPU\n",
        ")\n",
        "\n",
        "# Craft a sentence with the special mask token\n",
        "test_sentence = (\n",
        "    \"The glycerine market in Europe will continue to see [MASK] demand \"\n",
        "    \"next year, and imports will provide supply stability.\"\n",
        ")\n",
        "\n",
        "# Run the mask-filling\n",
        "results = fill_mask(test_sentence)\n",
        "\n",
        "# Display the top 5 predictions\n",
        "for res in results:\n",
        "    print(f\"{res['sequence']}  (score: {res['score']:.4f})\")"
      ]
    }
  ],
  "metadata": {
    "accelerator": "TPU",
    "colab": {
      "provenance": [],
      "history_visible": true,
      "gpuType": "V28",
      "gpuClass": "premium"
    },
    "kernelspec": {
      "display_name": "Python 3",
      "name": "python3"
    },
    "language_info": {
      "name": "python"
    }
  },
  "nbformat": 4,
  "nbformat_minor": 0
}